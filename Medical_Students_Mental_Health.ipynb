{
 "cells": [
  {
   "cell_type": "markdown",
   "metadata": {},
   "source": [
    "# Seyed Ali Kashani\n",
    "## Purpose of Study\n",
    "The purpose of this study is to acquire a deeper understanding of the welfare of medical students, to enhance policies by examining the relationship between age and empathy.\n",
    "\n",
    "## 1.Data\n",
    "\n",
    "The student mental health dataset investigates the empathy, mental health, and burnout of medical students in Switzerland. It contains 886 observations and 20 variables such as age, year of education, gender, and other demographic information and self-reported data provided from psychological tests. All variables are Integer but erec_mean variable, which is numeric. There are no duplicates or missing data in the dataset. Average study hour has no outliers but there are some outliers for age and empathy score variables regarding the boxplots. Because min and max numbers make sense for these two variables, we have no reasons to remove them.\n",
    "We can divide variables based on the level of measurement into two groups, categorical and continuous. Categorical variables are variables that are divided into categories, like sex, year, glang, health. Continuous variables have a distinct score like age, jspe, amsp. In this report, we deal with age, score of empathy and, the average study hours per week, which are called age, jspe and, stud_h in the dataset, respectively. The details about variables that we focused on are as follows:"
   ]
  },
  {
   "cell_type": "code",
   "execution_count": 4,
   "metadata": {
    "vscode": {
     "languageId": "r"
    }
   },
   "outputs": [],
   "source": [
    "library(ggplot2)\n",
    "library(dplyr)\n",
    "library(psych)\n",
    "library(knitr)\n",
    "library(gridExtra)\n",
    "library(ggm)"
   ]
  },
  {
   "cell_type": "code",
   "execution_count": 12,
   "metadata": {
    "vscode": {
     "languageId": "r"
    }
   },
   "outputs": [
    {
     "data": {
      "text/plain": [
       "       id              age             year            sex       \n",
       " Min.   :   2.0   Min.   :17.00   Min.   :1.000   Min.   :1.000  \n",
       " 1st Qu.: 447.5   1st Qu.:20.00   1st Qu.:1.000   1st Qu.:1.000  \n",
       " Median : 876.0   Median :22.00   Median :3.000   Median :2.000  \n",
       " Mean   : 889.7   Mean   :22.38   Mean   :3.103   Mean   :1.695  \n",
       " 3rd Qu.:1341.8   3rd Qu.:24.00   3rd Qu.:5.000   3rd Qu.:2.000  \n",
       " Max.   :1790.0   Max.   :49.00   Max.   :6.000   Max.   :3.000  \n",
       "     glang             part             job             stud_h     \n",
       " Min.   :  1.00   Min.   :0.0000   Min.   :0.0000   Min.   : 0.00  \n",
       " 1st Qu.:  1.00   1st Qu.:0.0000   1st Qu.:0.0000   1st Qu.:12.00  \n",
       " Median :  1.00   Median :1.0000   Median :0.0000   Median :25.00  \n",
       " Mean   : 14.33   Mean   :0.5632   Mean   :0.3488   Mean   :25.29  \n",
       " 3rd Qu.:  1.00   3rd Qu.:1.0000   3rd Qu.:1.0000   3rd Qu.:36.00  \n",
       " Max.   :121.00   Max.   :1.0000   Max.   :1.0000   Max.   :70.00  \n",
       "     health           psyt             jspe          qcae_cog    \n",
       " Min.   :1.000   Min.   :0.0000   Min.   : 67.0   Min.   :37.00  \n",
       " 1st Qu.:3.000   1st Qu.:0.0000   1st Qu.:101.0   1st Qu.:54.00  \n",
       " Median :4.000   Median :0.0000   Median :107.0   Median :58.00  \n",
       " Mean   :3.778   Mean   :0.2246   Mean   :106.4   Mean   :58.53  \n",
       " 3rd Qu.:5.000   3rd Qu.:0.0000   3rd Qu.:113.0   3rd Qu.:63.00  \n",
       " Max.   :5.000   Max.   :1.0000   Max.   :125.0   Max.   :76.00  \n",
       "    qcae_aff          amsp         erec_mean           cesd      \n",
       " Min.   :18.00   Min.   : 6.00   Min.   :0.3571   Min.   : 0.00  \n",
       " 1st Qu.:31.00   1st Qu.:20.00   1st Qu.:0.6667   1st Qu.: 9.00  \n",
       " Median :35.00   Median :23.00   Median :0.7262   Median :16.00  \n",
       " Mean   :34.78   Mean   :23.15   Mean   :0.7201   Mean   :18.05  \n",
       " 3rd Qu.:39.00   3rd Qu.:26.75   3rd Qu.:0.7857   3rd Qu.:25.00  \n",
       " Max.   :48.00   Max.   :35.00   Max.   :0.9524   Max.   :56.00  \n",
       "     stai_t         mbi_ex          mbi_cy          mbi_ea     \n",
       " Min.   :20.0   Min.   : 5.00   Min.   : 4.00   Min.   :10.00  \n",
       " 1st Qu.:34.0   1st Qu.:13.00   1st Qu.: 6.00   1st Qu.:21.00  \n",
       " Median :43.0   Median :17.00   Median : 9.00   Median :24.00  \n",
       " Mean   :42.9   Mean   :16.88   Mean   :10.08   Mean   :24.21  \n",
       " 3rd Qu.:51.0   3rd Qu.:20.00   3rd Qu.:13.00   3rd Qu.:28.00  \n",
       " Max.   :77.0   Max.   :30.00   Max.   :24.00   Max.   :36.00  "
      ]
     },
     "metadata": {},
     "output_type": "display_data"
    }
   ],
   "source": [
    "data <- read.csv(\"Z:/R_Projects/Data Carrard et al. 2022 MedTeach.csv\")\n",
    "summary(data)"
   ]
  },
  {
   "cell_type": "code",
   "execution_count": 1,
   "metadata": {
    "vscode": {
     "languageId": "r"
    }
   },
   "outputs": [
    {
     "ename": "ERROR",
     "evalue": "Error in data %>% summarise(age, jspe, stud_h): could not find function \"%>%\"\n",
     "output_type": "error",
     "traceback": [
      "Error in data %>% summarise(age, jspe, stud_h): could not find function \"%>%\"\nTraceback:\n"
     ]
    }
   ],
   "source": [
    "data1 <- data %>%\n",
    "summarise(age, jspe, stud_h)\n",
    "kable(describe(data1), digits = 2)"
   ]
  }
 ],
 "metadata": {
  "kernelspec": {
   "display_name": "R",
   "language": "R",
   "name": "ir"
  },
  "language_info": {
   "codemirror_mode": "r",
   "file_extension": ".r",
   "mimetype": "text/x-r-source",
   "name": "R",
   "pygments_lexer": "r",
   "version": "3.6.1"
  }
 },
 "nbformat": 4,
 "nbformat_minor": 2
}
